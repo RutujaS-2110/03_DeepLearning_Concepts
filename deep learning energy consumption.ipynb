{
 "cells": [
  {
   "cell_type": "code",
   "execution_count": 1,
   "id": "23c9b623-6d98-405a-b439-1792ab4b2d44",
   "metadata": {},
   "outputs": [],
   "source": [
    "import pandas as pd\n",
    "import numpy as np\n",
    "import matplotlib.pyplot as plt\n",
    "import seaborn as sns\n",
    "from sklearn.model_selection import train_test_split\n",
    "from sklearn.preprocessing import  StandardScaler\n",
    "from tensorflow.keras.models import Sequential\n",
    "from tensorflow.keras.layers import Dense"
   ]
  },
  {
   "cell_type": "code",
   "execution_count": 2,
   "id": "03976b24-89a4-4682-a6af-94921b81d05f",
   "metadata": {},
   "outputs": [
    {
     "data": {
      "text/html": [
       "<div>\n",
       "<style scoped>\n",
       "    .dataframe tbody tr th:only-of-type {\n",
       "        vertical-align: middle;\n",
       "    }\n",
       "\n",
       "    .dataframe tbody tr th {\n",
       "        vertical-align: top;\n",
       "    }\n",
       "\n",
       "    .dataframe thead th {\n",
       "        text-align: right;\n",
       "    }\n",
       "</style>\n",
       "<table border=\"1\" class=\"dataframe\">\n",
       "  <thead>\n",
       "    <tr style=\"text-align: right;\">\n",
       "      <th></th>\n",
       "      <th>temperature</th>\n",
       "      <th>humidity</th>\n",
       "      <th>wind_speed</th>\n",
       "      <th>solar_irradiance</th>\n",
       "      <th>energy_consumption</th>\n",
       "    </tr>\n",
       "  </thead>\n",
       "  <tbody>\n",
       "    <tr>\n",
       "      <th>0</th>\n",
       "      <td>24.363503</td>\n",
       "      <td>31.107976</td>\n",
       "      <td>5.234114</td>\n",
       "      <td>705.432695</td>\n",
       "      <td>307.398145</td>\n",
       "    </tr>\n",
       "    <tr>\n",
       "      <th>1</th>\n",
       "      <td>38.767858</td>\n",
       "      <td>52.514057</td>\n",
       "      <td>4.939576</td>\n",
       "      <td>817.013258</td>\n",
       "      <td>412.444548</td>\n",
       "    </tr>\n",
       "    <tr>\n",
       "      <th>2</th>\n",
       "      <td>33.299849</td>\n",
       "      <td>72.376750</td>\n",
       "      <td>18.125092</td>\n",
       "      <td>325.421109</td>\n",
       "      <td>392.072418</td>\n",
       "    </tr>\n",
       "    <tr>\n",
       "      <th>3</th>\n",
       "      <td>29.966462</td>\n",
       "      <td>63.933493</td>\n",
       "      <td>4.990924</td>\n",
       "      <td>662.386690</td>\n",
       "      <td>119.254957</td>\n",
       "    </tr>\n",
       "    <tr>\n",
       "      <th>4</th>\n",
       "      <td>18.900466</td>\n",
       "      <td>68.393669</td>\n",
       "      <td>5.438995</td>\n",
       "      <td>614.571385</td>\n",
       "      <td>117.162261</td>\n",
       "    </tr>\n",
       "  </tbody>\n",
       "</table>\n",
       "</div>"
      ],
      "text/plain": [
       "   temperature   humidity  wind_speed  solar_irradiance  energy_consumption\n",
       "0    24.363503  31.107976    5.234114        705.432695          307.398145\n",
       "1    38.767858  52.514057    4.939576        817.013258          412.444548\n",
       "2    33.299849  72.376750   18.125092        325.421109          392.072418\n",
       "3    29.966462  63.933493    4.990924        662.386690          119.254957\n",
       "4    18.900466  68.393669    5.438995        614.571385          117.162261"
      ]
     },
     "execution_count": 2,
     "metadata": {},
     "output_type": "execute_result"
    }
   ],
   "source": [
    "df = pd.read_csv('predict_energy_consumption(in).csv')\n",
    "df.head()"
   ]
  },
  {
   "cell_type": "code",
   "execution_count": 3,
   "id": "264e4ccb-3798-4f02-8321-371bff43d434",
   "metadata": {},
   "outputs": [
    {
     "data": {
      "text/plain": [
       "Index(['temperature', 'humidity', 'wind_speed', 'solar_irradiance',\n",
       "       'energy_consumption'],\n",
       "      dtype='object')"
      ]
     },
     "execution_count": 3,
     "metadata": {},
     "output_type": "execute_result"
    }
   ],
   "source": [
    "df.columns"
   ]
  },
  {
   "cell_type": "code",
   "execution_count": 4,
   "id": "438370f1-4ae1-432f-93ed-515da5c936b8",
   "metadata": {},
   "outputs": [],
   "source": [
    "X=df[['temperature', 'humidity', 'wind_speed', 'solar_irradiance']]\n",
    "y=df['energy_consumption'].values"
   ]
  },
  {
   "cell_type": "code",
   "execution_count": 9,
   "id": "2145e5d6-e604-455a-a299-11dd734fefa6",
   "metadata": {},
   "outputs": [],
   "source": [
    "X_train,X_test,y_train,y_test = train_test_split(X,y, test_size=0.2,random_state=42)"
   ]
  },
  {
   "cell_type": "code",
   "execution_count": 11,
   "id": "046d4bfd-8aee-4533-b155-6a9a1354d15f",
   "metadata": {},
   "outputs": [],
   "source": [
    "scaler = StandardScaler()\n",
    "X_train = scaler.fit_transform(X_train)\n",
    "X_test = scaler.transform(X_test)"
   ]
  },
  {
   "cell_type": "code",
   "execution_count": 13,
   "id": "7f610929-0183-4046-bfe1-4bcd29545cef",
   "metadata": {},
   "outputs": [
    {
     "name": "stderr",
     "output_type": "stream",
     "text": [
      "C:\\Users\\rathi\\anaconda3\\Lib\\site-packages\\keras\\src\\layers\\core\\dense.py:87: UserWarning: Do not pass an `input_shape`/`input_dim` argument to a layer. When using Sequential models, prefer using an `Input(shape)` object as the first layer in the model instead.\n",
      "  super().__init__(activity_regularizer=activity_regularizer, **kwargs)\n"
     ]
    }
   ],
   "source": [
    "model = Sequential([\n",
    "    Dense(64,activation='relu',input_shape=(X_train.shape[1],)),\n",
    "    Dense(32,activation='relu'),\n",
    "    Dense(1)\n",
    "])"
   ]
  },
  {
   "cell_type": "code",
   "execution_count": 15,
   "id": "d83f2ea2-91a2-40db-ba74-0df2ff053585",
   "metadata": {},
   "outputs": [],
   "source": [
    "model.compile(optimizer='adam',loss='mse',metrics=['accuracy'])"
   ]
  },
  {
   "cell_type": "code",
   "execution_count": 17,
   "id": "3bc7c846-a8b2-4ad4-af3d-bbbcff098734",
   "metadata": {},
   "outputs": [
    {
     "data": {
      "text/html": [
       "<pre style=\"white-space:pre;overflow-x:auto;line-height:normal;font-family:Menlo,'DejaVu Sans Mono',consolas,'Courier New',monospace\"><span style=\"font-weight: bold\">Model: \"sequential\"</span>\n",
       "</pre>\n"
      ],
      "text/plain": [
       "\u001b[1mModel: \"sequential\"\u001b[0m\n"
      ]
     },
     "metadata": {},
     "output_type": "display_data"
    },
    {
     "data": {
      "text/html": [
       "<pre style=\"white-space:pre;overflow-x:auto;line-height:normal;font-family:Menlo,'DejaVu Sans Mono',consolas,'Courier New',monospace\">┏━━━━━━━━━━━━━━━━━━━━━━━━━━━━━━━━━┳━━━━━━━━━━━━━━━━━━━━━━━━┳━━━━━━━━━━━━━━━┓\n",
       "┃<span style=\"font-weight: bold\"> Layer (type)                    </span>┃<span style=\"font-weight: bold\"> Output Shape           </span>┃<span style=\"font-weight: bold\">       Param # </span>┃\n",
       "┡━━━━━━━━━━━━━━━━━━━━━━━━━━━━━━━━━╇━━━━━━━━━━━━━━━━━━━━━━━━╇━━━━━━━━━━━━━━━┩\n",
       "│ dense (<span style=\"color: #0087ff; text-decoration-color: #0087ff\">Dense</span>)                   │ (<span style=\"color: #00d7ff; text-decoration-color: #00d7ff\">None</span>, <span style=\"color: #00af00; text-decoration-color: #00af00\">64</span>)             │           <span style=\"color: #00af00; text-decoration-color: #00af00\">320</span> │\n",
       "├─────────────────────────────────┼────────────────────────┼───────────────┤\n",
       "│ dense_1 (<span style=\"color: #0087ff; text-decoration-color: #0087ff\">Dense</span>)                 │ (<span style=\"color: #00d7ff; text-decoration-color: #00d7ff\">None</span>, <span style=\"color: #00af00; text-decoration-color: #00af00\">32</span>)             │         <span style=\"color: #00af00; text-decoration-color: #00af00\">2,080</span> │\n",
       "├─────────────────────────────────┼────────────────────────┼───────────────┤\n",
       "│ dense_2 (<span style=\"color: #0087ff; text-decoration-color: #0087ff\">Dense</span>)                 │ (<span style=\"color: #00d7ff; text-decoration-color: #00d7ff\">None</span>, <span style=\"color: #00af00; text-decoration-color: #00af00\">1</span>)              │            <span style=\"color: #00af00; text-decoration-color: #00af00\">33</span> │\n",
       "└─────────────────────────────────┴────────────────────────┴───────────────┘\n",
       "</pre>\n"
      ],
      "text/plain": [
       "┏━━━━━━━━━━━━━━━━━━━━━━━━━━━━━━━━━┳━━━━━━━━━━━━━━━━━━━━━━━━┳━━━━━━━━━━━━━━━┓\n",
       "┃\u001b[1m \u001b[0m\u001b[1mLayer (type)                   \u001b[0m\u001b[1m \u001b[0m┃\u001b[1m \u001b[0m\u001b[1mOutput Shape          \u001b[0m\u001b[1m \u001b[0m┃\u001b[1m \u001b[0m\u001b[1m      Param #\u001b[0m\u001b[1m \u001b[0m┃\n",
       "┡━━━━━━━━━━━━━━━━━━━━━━━━━━━━━━━━━╇━━━━━━━━━━━━━━━━━━━━━━━━╇━━━━━━━━━━━━━━━┩\n",
       "│ dense (\u001b[38;5;33mDense\u001b[0m)                   │ (\u001b[38;5;45mNone\u001b[0m, \u001b[38;5;34m64\u001b[0m)             │           \u001b[38;5;34m320\u001b[0m │\n",
       "├─────────────────────────────────┼────────────────────────┼───────────────┤\n",
       "│ dense_1 (\u001b[38;5;33mDense\u001b[0m)                 │ (\u001b[38;5;45mNone\u001b[0m, \u001b[38;5;34m32\u001b[0m)             │         \u001b[38;5;34m2,080\u001b[0m │\n",
       "├─────────────────────────────────┼────────────────────────┼───────────────┤\n",
       "│ dense_2 (\u001b[38;5;33mDense\u001b[0m)                 │ (\u001b[38;5;45mNone\u001b[0m, \u001b[38;5;34m1\u001b[0m)              │            \u001b[38;5;34m33\u001b[0m │\n",
       "└─────────────────────────────────┴────────────────────────┴───────────────┘\n"
      ]
     },
     "metadata": {},
     "output_type": "display_data"
    },
    {
     "data": {
      "text/html": [
       "<pre style=\"white-space:pre;overflow-x:auto;line-height:normal;font-family:Menlo,'DejaVu Sans Mono',consolas,'Courier New',monospace\"><span style=\"font-weight: bold\"> Total params: </span><span style=\"color: #00af00; text-decoration-color: #00af00\">2,433</span> (9.50 KB)\n",
       "</pre>\n"
      ],
      "text/plain": [
       "\u001b[1m Total params: \u001b[0m\u001b[38;5;34m2,433\u001b[0m (9.50 KB)\n"
      ]
     },
     "metadata": {},
     "output_type": "display_data"
    },
    {
     "data": {
      "text/html": [
       "<pre style=\"white-space:pre;overflow-x:auto;line-height:normal;font-family:Menlo,'DejaVu Sans Mono',consolas,'Courier New',monospace\"><span style=\"font-weight: bold\"> Trainable params: </span><span style=\"color: #00af00; text-decoration-color: #00af00\">2,433</span> (9.50 KB)\n",
       "</pre>\n"
      ],
      "text/plain": [
       "\u001b[1m Trainable params: \u001b[0m\u001b[38;5;34m2,433\u001b[0m (9.50 KB)\n"
      ]
     },
     "metadata": {},
     "output_type": "display_data"
    },
    {
     "data": {
      "text/html": [
       "<pre style=\"white-space:pre;overflow-x:auto;line-height:normal;font-family:Menlo,'DejaVu Sans Mono',consolas,'Courier New',monospace\"><span style=\"font-weight: bold\"> Non-trainable params: </span><span style=\"color: #00af00; text-decoration-color: #00af00\">0</span> (0.00 B)\n",
       "</pre>\n"
      ],
      "text/plain": [
       "\u001b[1m Non-trainable params: \u001b[0m\u001b[38;5;34m0\u001b[0m (0.00 B)\n"
      ]
     },
     "metadata": {},
     "output_type": "display_data"
    }
   ],
   "source": [
    "model.summary()"
   ]
  },
  {
   "cell_type": "code",
   "execution_count": 19,
   "id": "2e4ae6a8-d004-45dd-a136-8db682b7f8e9",
   "metadata": {},
   "outputs": [
    {
     "name": "stdout",
     "output_type": "stream",
     "text": [
      "Epoch 1/50\n",
      "\u001b[1m20/20\u001b[0m \u001b[32m━━━━━━━━━━━━━━━━━━━━\u001b[0m\u001b[37m\u001b[0m \u001b[1m2s\u001b[0m 20ms/step - accuracy: 0.0000e+00 - loss: 87650.1641 - val_accuracy: 0.0000e+00 - val_loss: 83643.7031\n",
      "Epoch 2/50\n",
      "\u001b[1m20/20\u001b[0m \u001b[32m━━━━━━━━━━━━━━━━━━━━\u001b[0m\u001b[37m\u001b[0m \u001b[1m0s\u001b[0m 7ms/step - accuracy: 0.0000e+00 - loss: 89967.7500 - val_accuracy: 0.0000e+00 - val_loss: 83060.2500\n",
      "Epoch 3/50\n",
      "\u001b[1m20/20\u001b[0m \u001b[32m━━━━━━━━━━━━━━━━━━━━\u001b[0m\u001b[37m\u001b[0m \u001b[1m0s\u001b[0m 8ms/step - accuracy: 0.0000e+00 - loss: 82276.3828 - val_accuracy: 0.0000e+00 - val_loss: 82199.1328\n",
      "Epoch 4/50\n",
      "\u001b[1m20/20\u001b[0m \u001b[32m━━━━━━━━━━━━━━━━━━━━\u001b[0m\u001b[37m\u001b[0m \u001b[1m0s\u001b[0m 8ms/step - accuracy: 0.0000e+00 - loss: 91156.1484 - val_accuracy: 0.0000e+00 - val_loss: 80892.4453\n",
      "Epoch 5/50\n",
      "\u001b[1m20/20\u001b[0m \u001b[32m━━━━━━━━━━━━━━━━━━━━\u001b[0m\u001b[37m\u001b[0m \u001b[1m0s\u001b[0m 7ms/step - accuracy: 0.0000e+00 - loss: 87379.5469 - val_accuracy: 0.0000e+00 - val_loss: 78996.7891\n",
      "Epoch 6/50\n",
      "\u001b[1m20/20\u001b[0m \u001b[32m━━━━━━━━━━━━━━━━━━━━\u001b[0m\u001b[37m\u001b[0m \u001b[1m0s\u001b[0m 7ms/step - accuracy: 0.0000e+00 - loss: 86858.9141 - val_accuracy: 0.0000e+00 - val_loss: 76320.2578\n",
      "Epoch 7/50\n",
      "\u001b[1m20/20\u001b[0m \u001b[32m━━━━━━━━━━━━━━━━━━━━\u001b[0m\u001b[37m\u001b[0m \u001b[1m0s\u001b[0m 7ms/step - accuracy: 0.0000e+00 - loss: 80744.5078 - val_accuracy: 0.0000e+00 - val_loss: 72751.8750\n",
      "Epoch 8/50\n",
      "\u001b[1m20/20\u001b[0m \u001b[32m━━━━━━━━━━━━━━━━━━━━\u001b[0m\u001b[37m\u001b[0m \u001b[1m0s\u001b[0m 8ms/step - accuracy: 0.0000e+00 - loss: 76908.5391 - val_accuracy: 0.0000e+00 - val_loss: 68212.6250\n",
      "Epoch 9/50\n",
      "\u001b[1m20/20\u001b[0m \u001b[32m━━━━━━━━━━━━━━━━━━━━\u001b[0m\u001b[37m\u001b[0m \u001b[1m0s\u001b[0m 7ms/step - accuracy: 0.0000e+00 - loss: 68146.4531 - val_accuracy: 0.0000e+00 - val_loss: 62749.3633\n",
      "Epoch 10/50\n",
      "\u001b[1m20/20\u001b[0m \u001b[32m━━━━━━━━━━━━━━━━━━━━\u001b[0m\u001b[37m\u001b[0m \u001b[1m0s\u001b[0m 7ms/step - accuracy: 0.0000e+00 - loss: 67098.7422 - val_accuracy: 0.0000e+00 - val_loss: 56420.1758\n",
      "Epoch 11/50\n",
      "\u001b[1m20/20\u001b[0m \u001b[32m━━━━━━━━━━━━━━━━━━━━\u001b[0m\u001b[37m\u001b[0m \u001b[1m0s\u001b[0m 7ms/step - accuracy: 0.0000e+00 - loss: 57365.3047 - val_accuracy: 0.0000e+00 - val_loss: 49713.9219\n",
      "Epoch 12/50\n",
      "\u001b[1m20/20\u001b[0m \u001b[32m━━━━━━━━━━━━━━━━━━━━\u001b[0m\u001b[37m\u001b[0m \u001b[1m0s\u001b[0m 7ms/step - accuracy: 0.0000e+00 - loss: 50231.6484 - val_accuracy: 0.0000e+00 - val_loss: 42873.9258\n",
      "Epoch 13/50\n",
      "\u001b[1m20/20\u001b[0m \u001b[32m━━━━━━━━━━━━━━━━━━━━\u001b[0m\u001b[37m\u001b[0m \u001b[1m0s\u001b[0m 7ms/step - accuracy: 0.0000e+00 - loss: 44528.0312 - val_accuracy: 0.0000e+00 - val_loss: 36281.5547\n",
      "Epoch 14/50\n",
      "\u001b[1m20/20\u001b[0m \u001b[32m━━━━━━━━━━━━━━━━━━━━\u001b[0m\u001b[37m\u001b[0m \u001b[1m0s\u001b[0m 6ms/step - accuracy: 0.0000e+00 - loss: 37067.4688 - val_accuracy: 0.0000e+00 - val_loss: 30487.2539\n",
      "Epoch 15/50\n",
      "\u001b[1m20/20\u001b[0m \u001b[32m━━━━━━━━━━━━━━━━━━━━\u001b[0m\u001b[37m\u001b[0m \u001b[1m0s\u001b[0m 7ms/step - accuracy: 0.0000e+00 - loss: 30677.1738 - val_accuracy: 0.0000e+00 - val_loss: 25960.0039\n",
      "Epoch 16/50\n",
      "\u001b[1m20/20\u001b[0m \u001b[32m━━━━━━━━━━━━━━━━━━━━\u001b[0m\u001b[37m\u001b[0m \u001b[1m0s\u001b[0m 7ms/step - accuracy: 0.0000e+00 - loss: 25794.3770 - val_accuracy: 0.0000e+00 - val_loss: 22558.0605\n",
      "Epoch 17/50\n",
      "\u001b[1m20/20\u001b[0m \u001b[32m━━━━━━━━━━━━━━━━━━━━\u001b[0m\u001b[37m\u001b[0m \u001b[1m0s\u001b[0m 7ms/step - accuracy: 0.0000e+00 - loss: 21795.0664 - val_accuracy: 0.0000e+00 - val_loss: 20453.1855\n",
      "Epoch 18/50\n",
      "\u001b[1m20/20\u001b[0m \u001b[32m━━━━━━━━━━━━━━━━━━━━\u001b[0m\u001b[37m\u001b[0m \u001b[1m0s\u001b[0m 9ms/step - accuracy: 0.0000e+00 - loss: 19394.9258 - val_accuracy: 0.0000e+00 - val_loss: 19250.8535\n",
      "Epoch 19/50\n",
      "\u001b[1m20/20\u001b[0m \u001b[32m━━━━━━━━━━━━━━━━━━━━\u001b[0m\u001b[37m\u001b[0m \u001b[1m0s\u001b[0m 8ms/step - accuracy: 0.0000e+00 - loss: 20082.0098 - val_accuracy: 0.0000e+00 - val_loss: 18740.2695\n",
      "Epoch 20/50\n",
      "\u001b[1m20/20\u001b[0m \u001b[32m━━━━━━━━━━━━━━━━━━━━\u001b[0m\u001b[37m\u001b[0m \u001b[1m0s\u001b[0m 7ms/step - accuracy: 0.0000e+00 - loss: 17455.8418 - val_accuracy: 0.0000e+00 - val_loss: 18554.1953\n",
      "Epoch 21/50\n",
      "\u001b[1m20/20\u001b[0m \u001b[32m━━━━━━━━━━━━━━━━━━━━\u001b[0m\u001b[37m\u001b[0m \u001b[1m0s\u001b[0m 7ms/step - accuracy: 0.0000e+00 - loss: 17838.8223 - val_accuracy: 0.0000e+00 - val_loss: 18505.4102\n",
      "Epoch 22/50\n",
      "\u001b[1m20/20\u001b[0m \u001b[32m━━━━━━━━━━━━━━━━━━━━\u001b[0m\u001b[37m\u001b[0m \u001b[1m0s\u001b[0m 7ms/step - accuracy: 0.0000e+00 - loss: 17573.9746 - val_accuracy: 0.0000e+00 - val_loss: 18480.0410\n",
      "Epoch 23/50\n",
      "\u001b[1m20/20\u001b[0m \u001b[32m━━━━━━━━━━━━━━━━━━━━\u001b[0m\u001b[37m\u001b[0m \u001b[1m0s\u001b[0m 8ms/step - accuracy: 0.0000e+00 - loss: 16654.7676 - val_accuracy: 0.0000e+00 - val_loss: 18496.8125\n",
      "Epoch 24/50\n",
      "\u001b[1m20/20\u001b[0m \u001b[32m━━━━━━━━━━━━━━━━━━━━\u001b[0m\u001b[37m\u001b[0m \u001b[1m0s\u001b[0m 7ms/step - accuracy: 0.0000e+00 - loss: 17410.8965 - val_accuracy: 0.0000e+00 - val_loss: 18502.1484\n",
      "Epoch 25/50\n",
      "\u001b[1m20/20\u001b[0m \u001b[32m━━━━━━━━━━━━━━━━━━━━\u001b[0m\u001b[37m\u001b[0m \u001b[1m0s\u001b[0m 7ms/step - accuracy: 0.0000e+00 - loss: 17855.0000 - val_accuracy: 0.0000e+00 - val_loss: 18507.5195\n",
      "Epoch 26/50\n",
      "\u001b[1m20/20\u001b[0m \u001b[32m━━━━━━━━━━━━━━━━━━━━\u001b[0m\u001b[37m\u001b[0m \u001b[1m0s\u001b[0m 9ms/step - accuracy: 0.0000e+00 - loss: 17228.8359 - val_accuracy: 0.0000e+00 - val_loss: 18544.5566\n",
      "Epoch 27/50\n",
      "\u001b[1m20/20\u001b[0m \u001b[32m━━━━━━━━━━━━━━━━━━━━\u001b[0m\u001b[37m\u001b[0m \u001b[1m0s\u001b[0m 7ms/step - accuracy: 0.0000e+00 - loss: 17228.9258 - val_accuracy: 0.0000e+00 - val_loss: 18492.3516\n",
      "Epoch 28/50\n",
      "\u001b[1m20/20\u001b[0m \u001b[32m━━━━━━━━━━━━━━━━━━━━\u001b[0m\u001b[37m\u001b[0m \u001b[1m0s\u001b[0m 7ms/step - accuracy: 0.0000e+00 - loss: 16805.4590 - val_accuracy: 0.0000e+00 - val_loss: 18465.1836\n",
      "Epoch 29/50\n",
      "\u001b[1m20/20\u001b[0m \u001b[32m━━━━━━━━━━━━━━━━━━━━\u001b[0m\u001b[37m\u001b[0m \u001b[1m0s\u001b[0m 7ms/step - accuracy: 0.0000e+00 - loss: 16872.7266 - val_accuracy: 0.0000e+00 - val_loss: 18481.6992\n",
      "Epoch 30/50\n",
      "\u001b[1m20/20\u001b[0m \u001b[32m━━━━━━━━━━━━━━━━━━━━\u001b[0m\u001b[37m\u001b[0m \u001b[1m0s\u001b[0m 7ms/step - accuracy: 0.0000e+00 - loss: 17107.7207 - val_accuracy: 0.0000e+00 - val_loss: 18464.0566\n",
      "Epoch 31/50\n",
      "\u001b[1m20/20\u001b[0m \u001b[32m━━━━━━━━━━━━━━━━━━━━\u001b[0m\u001b[37m\u001b[0m \u001b[1m0s\u001b[0m 7ms/step - accuracy: 0.0000e+00 - loss: 16607.1406 - val_accuracy: 0.0000e+00 - val_loss: 18493.2402\n",
      "Epoch 32/50\n",
      "\u001b[1m20/20\u001b[0m \u001b[32m━━━━━━━━━━━━━━━━━━━━\u001b[0m\u001b[37m\u001b[0m \u001b[1m0s\u001b[0m 9ms/step - accuracy: 0.0000e+00 - loss: 16561.2598 - val_accuracy: 0.0000e+00 - val_loss: 18446.4941\n",
      "Epoch 33/50\n",
      "\u001b[1m20/20\u001b[0m \u001b[32m━━━━━━━━━━━━━━━━━━━━\u001b[0m\u001b[37m\u001b[0m \u001b[1m0s\u001b[0m 7ms/step - accuracy: 0.0000e+00 - loss: 16453.7363 - val_accuracy: 0.0000e+00 - val_loss: 18406.9785\n",
      "Epoch 34/50\n",
      "\u001b[1m20/20\u001b[0m \u001b[32m━━━━━━━━━━━━━━━━━━━━\u001b[0m\u001b[37m\u001b[0m \u001b[1m0s\u001b[0m 7ms/step - accuracy: 0.0000e+00 - loss: 16910.9180 - val_accuracy: 0.0000e+00 - val_loss: 18377.6973\n",
      "Epoch 35/50\n",
      "\u001b[1m20/20\u001b[0m \u001b[32m━━━━━━━━━━━━━━━━━━━━\u001b[0m\u001b[37m\u001b[0m \u001b[1m0s\u001b[0m 8ms/step - accuracy: 0.0000e+00 - loss: 17278.4707 - val_accuracy: 0.0000e+00 - val_loss: 18425.6855\n",
      "Epoch 36/50\n",
      "\u001b[1m20/20\u001b[0m \u001b[32m━━━━━━━━━━━━━━━━━━━━\u001b[0m\u001b[37m\u001b[0m \u001b[1m0s\u001b[0m 7ms/step - accuracy: 0.0000e+00 - loss: 16805.0566 - val_accuracy: 0.0000e+00 - val_loss: 18425.3848\n",
      "Epoch 37/50\n",
      "\u001b[1m20/20\u001b[0m \u001b[32m━━━━━━━━━━━━━━━━━━━━\u001b[0m\u001b[37m\u001b[0m \u001b[1m0s\u001b[0m 6ms/step - accuracy: 0.0000e+00 - loss: 17160.3145 - val_accuracy: 0.0000e+00 - val_loss: 18360.5078\n",
      "Epoch 38/50\n",
      "\u001b[1m20/20\u001b[0m \u001b[32m━━━━━━━━━━━━━━━━━━━━\u001b[0m\u001b[37m\u001b[0m \u001b[1m0s\u001b[0m 7ms/step - accuracy: 0.0000e+00 - loss: 16450.2363 - val_accuracy: 0.0000e+00 - val_loss: 18402.5410\n",
      "Epoch 39/50\n",
      "\u001b[1m20/20\u001b[0m \u001b[32m━━━━━━━━━━━━━━━━━━━━\u001b[0m\u001b[37m\u001b[0m \u001b[1m0s\u001b[0m 9ms/step - accuracy: 0.0000e+00 - loss: 17494.5684 - val_accuracy: 0.0000e+00 - val_loss: 18393.4824\n",
      "Epoch 40/50\n",
      "\u001b[1m20/20\u001b[0m \u001b[32m━━━━━━━━━━━━━━━━━━━━\u001b[0m\u001b[37m\u001b[0m \u001b[1m0s\u001b[0m 7ms/step - accuracy: 0.0000e+00 - loss: 17390.2871 - val_accuracy: 0.0000e+00 - val_loss: 18373.8340\n",
      "Epoch 41/50\n",
      "\u001b[1m20/20\u001b[0m \u001b[32m━━━━━━━━━━━━━━━━━━━━\u001b[0m\u001b[37m\u001b[0m \u001b[1m0s\u001b[0m 9ms/step - accuracy: 0.0000e+00 - loss: 17687.1719 - val_accuracy: 0.0000e+00 - val_loss: 18342.8066\n",
      "Epoch 42/50\n",
      "\u001b[1m20/20\u001b[0m \u001b[32m━━━━━━━━━━━━━━━━━━━━\u001b[0m\u001b[37m\u001b[0m \u001b[1m0s\u001b[0m 8ms/step - accuracy: 0.0000e+00 - loss: 16946.6016 - val_accuracy: 0.0000e+00 - val_loss: 18368.2461\n",
      "Epoch 43/50\n",
      "\u001b[1m20/20\u001b[0m \u001b[32m━━━━━━━━━━━━━━━━━━━━\u001b[0m\u001b[37m\u001b[0m \u001b[1m0s\u001b[0m 8ms/step - accuracy: 0.0000e+00 - loss: 17670.8516 - val_accuracy: 0.0000e+00 - val_loss: 18357.1777\n",
      "Epoch 44/50\n",
      "\u001b[1m20/20\u001b[0m \u001b[32m━━━━━━━━━━━━━━━━━━━━\u001b[0m\u001b[37m\u001b[0m \u001b[1m0s\u001b[0m 8ms/step - accuracy: 0.0000e+00 - loss: 17608.9941 - val_accuracy: 0.0000e+00 - val_loss: 18374.2969\n",
      "Epoch 45/50\n",
      "\u001b[1m20/20\u001b[0m \u001b[32m━━━━━━━━━━━━━━━━━━━━\u001b[0m\u001b[37m\u001b[0m \u001b[1m0s\u001b[0m 7ms/step - accuracy: 0.0000e+00 - loss: 17063.3633 - val_accuracy: 0.0000e+00 - val_loss: 18336.2188\n",
      "Epoch 46/50\n",
      "\u001b[1m20/20\u001b[0m \u001b[32m━━━━━━━━━━━━━━━━━━━━\u001b[0m\u001b[37m\u001b[0m \u001b[1m0s\u001b[0m 7ms/step - accuracy: 0.0000e+00 - loss: 17153.7148 - val_accuracy: 0.0000e+00 - val_loss: 18333.7031\n",
      "Epoch 47/50\n",
      "\u001b[1m20/20\u001b[0m \u001b[32m━━━━━━━━━━━━━━━━━━━━\u001b[0m\u001b[37m\u001b[0m \u001b[1m0s\u001b[0m 7ms/step - accuracy: 0.0000e+00 - loss: 18376.6738 - val_accuracy: 0.0000e+00 - val_loss: 18317.2305\n",
      "Epoch 48/50\n",
      "\u001b[1m20/20\u001b[0m \u001b[32m━━━━━━━━━━━━━━━━━━━━\u001b[0m\u001b[37m\u001b[0m \u001b[1m0s\u001b[0m 8ms/step - accuracy: 0.0000e+00 - loss: 17627.5488 - val_accuracy: 0.0000e+00 - val_loss: 18269.4492\n",
      "Epoch 49/50\n",
      "\u001b[1m20/20\u001b[0m \u001b[32m━━━━━━━━━━━━━━━━━━━━\u001b[0m\u001b[37m\u001b[0m \u001b[1m0s\u001b[0m 7ms/step - accuracy: 0.0000e+00 - loss: 16311.7588 - val_accuracy: 0.0000e+00 - val_loss: 18311.3164\n",
      "Epoch 50/50\n",
      "\u001b[1m20/20\u001b[0m \u001b[32m━━━━━━━━━━━━━━━━━━━━\u001b[0m\u001b[37m\u001b[0m \u001b[1m0s\u001b[0m 6ms/step - accuracy: 0.0000e+00 - loss: 16272.0605 - val_accuracy: 0.0000e+00 - val_loss: 18278.8711\n"
     ]
    }
   ],
   "source": [
    "history = model.fit(X_train,y_train,epochs=50,batch_size=32,validation_split=0.2,verbose=1,)"
   ]
  },
  {
   "cell_type": "code",
   "execution_count": 21,
   "id": "63322992-d1ab-4f39-a6b4-293dd00a49bb",
   "metadata": {},
   "outputs": [
    {
     "name": "stdout",
     "output_type": "stream",
     "text": [
      "\u001b[1m7/7\u001b[0m \u001b[32m━━━━━━━━━━━━━━━━━━━━\u001b[0m\u001b[37m\u001b[0m \u001b[1m0s\u001b[0m 32ms/step - accuracy: 0.0000e+00 - loss: 18133.3281\n",
      "Test Mean Absolute Error :0.00\n"
     ]
    }
   ],
   "source": [
    "test_loss,test_mae = model.evaluate(X_test,y_test,verbose=1)\n",
    "print(f\"Test Mean Absolute Error :{test_mae:.2f}\")"
   ]
  },
  {
   "cell_type": "code",
   "execution_count": 23,
   "id": "de84e175-d302-4430-984d-94488cfeb3a0",
   "metadata": {},
   "outputs": [
    {
     "data": {
      "image/png": "[encoded data removed]",
      "text/plain": [
       "<Figure size 640x480 with 1 Axes>"
      ]
     },
     "metadata": {},
     "output_type": "display_data"
    }
   ],
   "source": [
    "plt.plot(history.history['loss'],label='Training Loss')\n",
    "plt.plot(history.history['val_loss'],label='Validation Loss')\n",
    "plt.xlabel('Epochs')\n",
    "plt.ylabel('loss')\n",
    "plt.title('Model Traing Performance')\n",
    "plt.legend()\n",
    "plt.show()"
   ]
  },
  {
   "cell_type": "code",
   "execution_count": 25,
   "id": "c82e0296-6591-468d-970f-c70717f469dc",
   "metadata": {},
   "outputs": [
    {
     "name": "stdout",
     "output_type": "stream",
     "text": [
      "\u001b[1m7/7\u001b[0m \u001b[32m━━━━━━━━━━━━━━━━━━━━\u001b[0m\u001b[37m\u001b[0m \u001b[1m0s\u001b[0m 19ms/step\n"
     ]
    },
    {
     "data": {
      "text/plain": [
       "array([[289.86597],\n",
       "       [247.36208],\n",
       "       [271.8775 ],\n",
       "       [210.66866],\n",
       "       [351.64337],\n",
       "       [298.02966],\n",
       "       [324.12634],\n",
       "       [284.903  ],\n",
       "       [283.24078],\n",
       "       [289.6429 ],\n",
       "       [231.26456],\n",
       "       [259.76294],\n",
       "       [284.0999 ],\n",
       "       [238.53752],\n",
       "       [290.54486],\n",
       "       [304.91925],\n",
       "       [261.11584],\n",
       "       [307.90857],\n",
       "       [298.74536],\n",
       "       [240.9886 ],\n",
       "       [280.4786 ],\n",
       "       [288.21417],\n",
       "       [280.83365],\n",
       "       [277.315  ],\n",
       "       [249.88576],\n",
       "       [244.39299],\n",
       "       [261.64285],\n",
       "       [322.9681 ],\n",
       "       [308.96106],\n",
       "       [260.70193],\n",
       "       [235.66203],\n",
       "       [301.15387],\n",
       "       [296.5562 ],\n",
       "       [273.46613],\n",
       "       [311.28403],\n",
       "       [285.82745],\n",
       "       [215.67094],\n",
       "       [257.79742],\n",
       "       [285.10004],\n",
       "       [253.15833],\n",
       "       [251.64284],\n",
       "       [255.07475],\n",
       "       [247.20177],\n",
       "       [252.59972],\n",
       "       [265.7924 ],\n",
       "       [255.91573],\n",
       "       [280.50317],\n",
       "       [242.8408 ],\n",
       "       [287.6019 ],\n",
       "       [297.40762],\n",
       "       [221.0267 ],\n",
       "       [261.5041 ],\n",
       "       [254.0895 ],\n",
       "       [218.72365],\n",
       "       [316.30124],\n",
       "       [294.14136],\n",
       "       [253.0905 ],\n",
       "       [265.27545],\n",
       "       [271.60684],\n",
       "       [278.63525],\n",
       "       [252.82903],\n",
       "       [277.7818 ],\n",
       "       [270.81744],\n",
       "       [326.07056],\n",
       "       [303.2399 ],\n",
       "       [259.219  ],\n",
       "       [312.1527 ],\n",
       "       [254.77623],\n",
       "       [242.70595],\n",
       "       [233.46596],\n",
       "       [310.2807 ],\n",
       "       [250.89062],\n",
       "       [303.88797],\n",
       "       [264.09497],\n",
       "       [261.60187],\n",
       "       [287.1778 ],\n",
       "       [226.17119],\n",
       "       [216.23132],\n",
       "       [273.26437],\n",
       "       [280.3437 ],\n",
       "       [238.26306],\n",
       "       [308.80106],\n",
       "       [249.13997],\n",
       "       [276.25137],\n",
       "       [245.34404],\n",
       "       [260.13037],\n",
       "       [291.10486],\n",
       "       [282.4803 ],\n",
       "       [211.04994],\n",
       "       [298.32788],\n",
       "       [316.71915],\n",
       "       [247.0217 ],\n",
       "       [291.29138],\n",
       "       [235.40346],\n",
       "       [230.14886],\n",
       "       [255.1724 ],\n",
       "       [260.8253 ],\n",
       "       [264.47397],\n",
       "       [202.44315],\n",
       "       [256.58496],\n",
       "       [284.09546],\n",
       "       [252.10344],\n",
       "       [266.83606],\n",
       "       [260.7301 ],\n",
       "       [217.84259],\n",
       "       [259.35654],\n",
       "       [335.40283],\n",
       "       [296.6836 ],\n",
       "       [277.79025],\n",
       "       [261.09103],\n",
       "       [327.27075],\n",
       "       [254.87688],\n",
       "       [314.3043 ],\n",
       "       [220.37225],\n",
       "       [272.59695],\n",
       "       [259.16193],\n",
       "       [240.89238],\n",
       "       [290.30774],\n",
       "       [250.51816],\n",
       "       [323.8479 ],\n",
       "       [238.56526],\n",
       "       [279.75787],\n",
       "       [205.50232],\n",
       "       [255.52   ],\n",
       "       [271.00043],\n",
       "       [238.40532],\n",
       "       [221.98024],\n",
       "       [274.73767],\n",
       "       [252.65456],\n",
       "       [268.21185],\n",
       "       [304.65857],\n",
       "       [268.0146 ],\n",
       "       [309.22174],\n",
       "       [276.77133],\n",
       "       [263.13806],\n",
       "       [271.59476],\n",
       "       [269.40515],\n",
       "       [275.68643],\n",
       "       [246.00536],\n",
       "       [282.47058],\n",
       "       [288.97736],\n",
       "       [308.24036],\n",
       "       [278.4829 ],\n",
       "       [254.04042],\n",
       "       [223.54817],\n",
       "       [249.07082],\n",
       "       [271.4697 ],\n",
       "       [305.10382],\n",
       "       [230.73976],\n",
       "       [296.32538],\n",
       "       [217.57161],\n",
       "       [277.984  ],\n",
       "       [263.13525],\n",
       "       [304.56693],\n",
       "       [235.43437],\n",
       "       [251.961  ],\n",
       "       [248.937  ],\n",
       "       [228.26938],\n",
       "       [300.7868 ],\n",
       "       [285.56235],\n",
       "       [216.974  ],\n",
       "       [256.75024],\n",
       "       [263.52023],\n",
       "       [256.8153 ],\n",
       "       [252.80397],\n",
       "       [307.03668],\n",
       "       [267.05032],\n",
       "       [297.81937],\n",
       "       [281.0396 ],\n",
       "       [236.35033],\n",
       "       [249.34761],\n",
       "       [218.32088],\n",
       "       [268.92682],\n",
       "       [262.15335],\n",
       "       [238.14717],\n",
       "       [226.40941],\n",
       "       [273.1619 ],\n",
       "       [259.67688],\n",
       "       [269.72726],\n",
       "       [256.34772],\n",
       "       [204.4977 ],\n",
       "       [244.76213],\n",
       "       [282.06348],\n",
       "       [245.72514],\n",
       "       [208.29231],\n",
       "       [219.278  ],\n",
       "       [319.18683],\n",
       "       [251.92186],\n",
       "       [282.9322 ],\n",
       "       [258.64438],\n",
       "       [287.67624],\n",
       "       [283.51746],\n",
       "       [238.8289 ],\n",
       "       [256.85233],\n",
       "       [291.62183],\n",
       "       [280.64374],\n",
       "       [277.3455 ],\n",
       "       [243.38785],\n",
       "       [265.95776],\n",
       "       [293.9935 ]], dtype=float32)"
      ]
     },
     "execution_count": 25,
     "metadata": {},
     "output_type": "execute_result"
    }
   ],
   "source": [
    "pred = model.predict(X_test)\n",
    "pred"
   ]
  },
  {
   "cell_type": "code",
   "execution_count": 29,
   "id": "7e4ea232-7bef-479f-9907-757ad29b6893",
   "metadata": {},
   "outputs": [
    {
     "data": {
      "image/png": "[encoded data removed]",
      "text/plain": [
       "<Figure size 640x480 with 1 Axes>"
      ]
     },
     "metadata": {},
     "output_type": "display_data"
    }
   ],
   "source": [
    "plt.scatter(y_test,pred)\n",
    "plt.xlabel('True Energy consumption')\n",
    "plt.ylabel('Predicted Energy Consumption')\n",
    "plt.title('Prediction vs True Values')\n",
    "plt.show()"
   ]
  },
  {
   "cell_type": "code",
   "execution_count": null,
   "id": "1822bcb2-88d9-461a-911b-3275ffe84ef3",
   "metadata": {},
   "outputs": [],
   "source": []
  }
 ],
 "metadata": {
  "kernelspec": {
   "display_name": "Python [conda env:base] *",
   "language": "python",
   "name": "conda-base-py"
  },
  "language_info": {
   "codemirror_mode": {
    "name": "ipython",
    "version": 3
   },
   "file_extension": ".py",
   "mimetype": "text/x-python",
   "name": "python",
   "nbconvert_exporter": "python",
   "pygments_lexer": "ipython3",
   "version": "3.12.7"
  }
 },
 "nbformat": 4,
 "nbformat_minor": 5
}
